{
 "cells": [
  {
   "cell_type": "markdown",
   "id": "a87d770a-7382-411f-b14d-52d9c114685a",
   "metadata": {},
   "source": [
    "# \"Hello World for Quantum Computing\""
   ]
  },
  {
   "cell_type": "markdown",
   "id": "b347839a-908d-4ef5-ae64-eda02792a386",
   "metadata": {},
   "source": [
    "## Basics"
   ]
  },
  {
   "cell_type": "markdown",
   "id": "3bc293da-7f39-4418-8743-4ca02d8475b8",
   "metadata": {},
   "source": [
    "*The process is simple. First build the quantum circuit, then choose the simulator on which the circuit will run, after which you transpile it for your cpu and finally run the circuit.*"
   ]
  },
  {
   "cell_type": "markdown",
   "id": "c62ff281-48a8-4b56-ab04-50ea1e239f9c",
   "metadata": {},
   "source": [
    "### 1. Build the Circuit"
   ]
  },
  {
   "cell_type": "markdown",
   "id": "9e94c388-abb7-48f9-974f-7613a99c1bc5",
   "metadata": {},
   "source": [
    "**Import QuantumCircuit to help you build the circuit.**"
   ]
  },
  {
   "cell_type": "code",
   "execution_count": 2,
   "id": "97b0487d-c062-4fdc-b62b-66beb840abf8",
   "metadata": {},
   "outputs": [],
   "source": [
    "from qiskit import QuantumCircuit"
   ]
  },
  {
   "cell_type": "markdown",
   "id": "3d1d6cc2-9ff6-4590-ac3f-5533ca00a1d7",
   "metadata": {},
   "source": [
    "**Specify the number of qubits and classical bits (for storing and recording)**"
   ]
  },
  {
   "cell_type": "code",
   "execution_count": 3,
   "id": "1c9ca645-621b-4885-b3e7-c5a63bff4c98",
   "metadata": {},
   "outputs": [],
   "source": [
    "qc = QuantumCircuit(1, 1) # 1 qubit and 1 classical bit."
   ]
  },
  {
   "cell_type": "markdown",
   "id": "fdc29108-a58d-4504-8743-dec287fab8b9",
   "metadata": {},
   "source": [
    "**Apply the Hadarmand Gate and put a single qubit into Superposition.**"
   ]
  },
  {
   "cell_type": "code",
   "execution_count": 4,
   "id": "aa8be47f-9f30-49b2-9777-a81460a48e2b",
   "metadata": {},
   "outputs": [
    {
     "data": {
      "text/plain": [
       "<qiskit.circuit.instructionset.InstructionSet at 0x26c1b58d630>"
      ]
     },
     "execution_count": 4,
     "metadata": {},
     "output_type": "execute_result"
    }
   ],
   "source": [
    "qc.h(0)"
   ]
  },
  {
   "cell_type": "markdown",
   "id": "2e87c497-9b63-443d-a0c2-6c042b38896b",
   "metadata": {},
   "source": [
    "**Measure the Qubit and store it in the classical bit.**"
   ]
  },
  {
   "cell_type": "code",
   "execution_count": 5,
   "id": "4a090421-1358-4d94-b03a-00f424d3a401",
   "metadata": {},
   "outputs": [
    {
     "data": {
      "text/plain": [
       "<qiskit.circuit.instructionset.InstructionSet at 0x26c1b58d750>"
      ]
     },
     "execution_count": 5,
     "metadata": {},
     "output_type": "execute_result"
    }
   ],
   "source": [
    "qc.measure(0, 0)"
   ]
  },
  {
   "cell_type": "markdown",
   "id": "c1220bb3-892d-49d4-8b44-481b6cf07f8b",
   "metadata": {},
   "source": [
    "**Visualize the circuit!**"
   ]
  },
  {
   "cell_type": "code",
   "execution_count": 7,
   "id": "c05e0a6b-ff8b-4af2-8953-baee303147dc",
   "metadata": {},
   "outputs": [
    {
     "data": {
      "text/html": [
       "<pre style=\"word-wrap: normal;white-space: pre;background: #fff0;line-height: 1.1;font-family: &quot;Courier New&quot;,Courier,monospace\">     ┌───┐┌─┐\n",
       "  q: ┤ H ├┤M├\n",
       "     └───┘└╥┘\n",
       "c: 1/══════╩═\n",
       "           0 </pre>"
      ],
      "text/plain": [
       "     ┌───┐┌─┐\n",
       "  q: ┤ H ├┤M├\n",
       "     └───┘└╥┘\n",
       "c: 1/══════╩═\n",
       "           0 "
      ]
     },
     "execution_count": 7,
     "metadata": {},
     "output_type": "execute_result"
    }
   ],
   "source": [
    "qc.draw(\"text\")"
   ]
  },
  {
   "cell_type": "markdown",
   "id": "3a316792-ed7a-4fae-9373-f9a6a0140b46",
   "metadata": {},
   "source": [
    "### 2. Choose the Simulator"
   ]
  },
  {
   "cell_type": "code",
   "execution_count": 44,
   "id": "7dd6297c-f421-4cc4-b17c-80368fd289f8",
   "metadata": {},
   "outputs": [],
   "source": [
    "from qiskit_aer import Aer"
   ]
  },
  {
   "cell_type": "code",
   "execution_count": 45,
   "id": "8040461d-390a-4750-a460-c936ec6ec8e2",
   "metadata": {},
   "outputs": [],
   "source": [
    "sim = Aer.get_backend(\"aer_simulator\")"
   ]
  },
  {
   "cell_type": "markdown",
   "id": "da321c83-0dc9-40a3-944b-a8711e6e9d4f",
   "metadata": {},
   "source": [
    "### 3. Transpile"
   ]
  },
  {
   "cell_type": "code",
   "execution_count": 46,
   "id": "2bf5ac69-b936-4fcd-a120-21c0e0e7ced9",
   "metadata": {},
   "outputs": [],
   "source": [
    "from qiskit import transpile"
   ]
  },
  {
   "cell_type": "code",
   "execution_count": 47,
   "id": "78d70c5c-ea50-4327-a3c2-503072229518",
   "metadata": {},
   "outputs": [],
   "source": [
    "qc_t = transpile(qc, sim)"
   ]
  },
  {
   "cell_type": "markdown",
   "id": "f9a3c592-859f-4039-b6bb-ae33fb1e1e94",
   "metadata": {},
   "source": [
    "### 4. Run the Circuit"
   ]
  },
  {
   "cell_type": "markdown",
   "id": "a54a3627-ac3d-441e-b3d1-ac9a5bcfc828",
   "metadata": {},
   "source": [
    "**Shots mean how many times the circuit will run similar to the loops idea.**"
   ]
  },
  {
   "cell_type": "code",
   "execution_count": 48,
   "id": "b8d28482-c9ba-477d-8c45-c5552fe8aff2",
   "metadata": {},
   "outputs": [],
   "source": [
    "job = sim.run(qc_t, shots = 1000)"
   ]
  },
  {
   "cell_type": "code",
   "execution_count": 49,
   "id": "10df4db9-ac2d-42c2-bda8-fc8f5285c060",
   "metadata": {},
   "outputs": [],
   "source": [
    "result = job.result()"
   ]
  },
  {
   "cell_type": "code",
   "execution_count": 50,
   "id": "a0cefce6-fdc9-4104-b70a-9e5544133f9d",
   "metadata": {},
   "outputs": [],
   "source": [
    "counts = result.get_counts()"
   ]
  },
  {
   "cell_type": "code",
   "execution_count": 51,
   "id": "7e5a281d-1ec2-4962-82f3-9e187c5c2164",
   "metadata": {},
   "outputs": [
    {
     "name": "stdout",
     "output_type": "stream",
     "text": [
      "{'0': 506, '1': 494}\n"
     ]
    }
   ],
   "source": [
    "print(counts)"
   ]
  },
  {
   "cell_type": "markdown",
   "id": "dffadfd7-377f-45e9-9266-2a4cbe3294fe",
   "metadata": {},
   "source": [
    "### 5. Plotting (Optional)"
   ]
  },
  {
   "cell_type": "code",
   "execution_count": 52,
   "id": "5eb1d368-b6df-475c-91bf-ec6289f21769",
   "metadata": {},
   "outputs": [],
   "source": [
    "from qiskit.visualization import plot_histogram"
   ]
  },
  {
   "cell_type": "code",
   "execution_count": 53,
   "id": "5b69a4f0-a526-4302-b9e0-71111afb584a",
   "metadata": {},
   "outputs": [
    {
     "data": {
      "image/png": "[encoded data removed]",
      "text/plain": [
       "<Figure size 700x500 with 1 Axes>"
      ]
     },
     "execution_count": 53,
     "metadata": {},
     "output_type": "execute_result"
    }
   ],
   "source": [
    "plot_histogram(counts)"
   ]
  },
  {
   "cell_type": "code",
   "execution_count": null,
   "id": "f89e2fba-7605-4a17-941b-cb18c40d478c",
   "metadata": {},
   "outputs": [],
   "source": []
  }
 ],
 "metadata": {
  "kernelspec": {
   "display_name": "Python 3 (ipykernel)",
   "language": "python",
   "name": "python3"
  },
  "language_info": {
   "codemirror_mode": {
    "name": "ipython",
    "version": 3
   },
   "file_extension": ".py",
   "mimetype": "text/x-python",
   "name": "python",
   "nbconvert_exporter": "python",
   "pygments_lexer": "ipython3",
   "version": "3.11.1"
  }
 },
 "nbformat": 4,
 "nbformat_minor": 5
}
